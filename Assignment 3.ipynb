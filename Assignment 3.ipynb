{
 "cells": [
  {
   "cell_type": "code",
   "execution_count": null,
   "id": "d2f3ad69-99ed-48e0-9611-c303cd9e24cf",
   "metadata": {},
   "outputs": [],
   "source": [
    "        #Answer: 1\n",
    "    \n",
    "    Abstraction in python is defined as a process of handling complexity by hiding unnecessary information from the user.\n",
    "    This is one of the core concepts of object-oriented programming (OOP) languages.\n",
    "    That enables the user to implement even more complex logic on top of the provided abstraction without understanding or,\n",
    "    even thinking about all the hidden background/back-end complexity.\n",
    "    \n",
    "    Example: When we use the TV remote to increase the volume. \n",
    "    We don't know how pressing a key increases the volume of the TV.\n",
    "    We only know to press the \"+\" button to increase the volume.\n",
    "    That is exactly the abstraction that works in the object-oriented concept."
   ]
  },
  {
   "cell_type": "code",
   "execution_count": null,
   "id": "3e551d3e-2850-4682-b8fb-b73929c34772",
   "metadata": {},
   "outputs": [],
   "source": [
    "      #Answer: 2\n",
    "    \n",
    "     Abstraction is a way of representing some specific data.\n",
    "    Encapsulation is a way of hiding the complexity of something and exposing only the parts you wish to expose. \n",
    "    For example, if you have a class that has one or more private fields that you use to store the data,\n",
    "    then you are in encapsulation. "
   ]
  },
  {
   "cell_type": "code",
   "execution_count": null,
   "id": "3fa417f1-a147-4c20-95a3-5b2f46cfdc67",
   "metadata": {},
   "outputs": [],
   "source": [
    "       #Answer: 3\n",
    "    \n",
    "    The 'abc' module in the Python library provides the infrastructure for defining custom abstract base classes.\n",
    "    Abstract class cannot be instantiated in python. An Abstract method can be call by its subclasses.\n",
    "    \n",
    "    Use of abc:\n",
    "        For larger projects, it is impossible to remember the class details, \n",
    "        and also the reusability of code can increase the bug.\n",
    "        Therefore, it plays a crucial role in our projects."
   ]
  },
  {
   "cell_type": "code",
   "execution_count": null,
   "id": "e4b54941-009e-4fd5-acdd-1101d470fdf6",
   "metadata": {},
   "outputs": [],
   "source": [
    "    #Answer: 4\n",
    "    \n",
    "    Data abstraction is a method where essential elements are displayed to the user and trivial elements are kept hidden. \n",
    "    Abstraction is achieved by using the abstract keyword for classes and interfaces.\n",
    "    In abstract classes, we can have abstract methods as well as concrete methods. "
   ]
  },
  {
   "cell_type": "code",
   "execution_count": null,
   "id": "b9992ff8-014a-4e9e-9958-e62334af09b0",
   "metadata": {},
   "outputs": [],
   "source": [
    "     #Answer: 5\n",
    "    \n",
    "    Abstract classes are not complete, as they may have some methods that are not defined. \n",
    "    So we cannot create an instance or object of an abstract class in Python.\n"
   ]
  }
 ],
 "metadata": {
  "kernelspec": {
   "display_name": "Python 3 (ipykernel)",
   "language": "python",
   "name": "python3"
  },
  "language_info": {
   "codemirror_mode": {
    "name": "ipython",
    "version": 3
   },
   "file_extension": ".py",
   "mimetype": "text/x-python",
   "name": "python",
   "nbconvert_exporter": "python",
   "pygments_lexer": "ipython3",
   "version": "3.10.8"
  }
 },
 "nbformat": 4,
 "nbformat_minor": 5
}
